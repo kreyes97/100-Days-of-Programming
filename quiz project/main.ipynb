{
 "cells": [
  {
   "cell_type": "code",
   "execution_count": null,
   "metadata": {},
   "outputs": [],
   "source": [
    "# what kind of attributes should a question object have\n",
    "    # text\n",
    "    # answer\n",
    "    # initialized from a value when a new object is created from the class\n",
    "    # new_q = Question(\"2+3=5\", \"True\")\n",
    "    # constructor takes data above into\n",
    "        # text = \"2+3=5\"\n",
    "        # answer = True"
   ]
  },
  {
   "cell_type": "code",
   "execution_count": 5,
   "metadata": {},
   "outputs": [
    {
     "ename": "ImportError",
     "evalue": "cannot import name 'question_bank' from 'data' (c:\\Users\\Kenneth\\100daysprojects\\quiz project\\data.py)",
     "output_type": "error",
     "traceback": [
      "\u001b[1;31m---------------------------------------------------------------------------\u001b[0m",
      "\u001b[1;31mImportError\u001b[0m                               Traceback (most recent call last)",
      "\u001b[1;32mc:\\Users\\Kenneth\\100daysprojects\\quiz project\\main.ipynb Cell 2\u001b[0m in \u001b[0;36m<cell line: 1>\u001b[1;34m()\u001b[0m\n\u001b[1;32m----> <a href='vscode-notebook-cell:/c%3A/Users/Kenneth/100daysprojects/quiz%20project/main.ipynb#X11sZmlsZQ%3D%3D?line=0'>1</a>\u001b[0m \u001b[39mfrom\u001b[39;00m \u001b[39mdata\u001b[39;00m \u001b[39mimport\u001b[39;00m question_bank\n",
      "\u001b[1;31mImportError\u001b[0m: cannot import name 'question_bank' from 'data' (c:\\Users\\Kenneth\\100daysprojects\\quiz project\\data.py)"
     ]
    }
   ],
   "source": [
    "from data import question_bank"
   ]
  },
  {
   "cell_type": "code",
   "execution_count": 2,
   "metadata": {},
   "outputs": [],
   "source": [
    "class Question:\n",
    "    def __init__(self, text, answer):\n",
    "        self.text = text\n",
    "        self.answer = answer\n",
    "        "
   ]
  }
 ],
 "metadata": {
  "kernelspec": {
   "display_name": "Python 3.9.13 64-bit (microsoft store)",
   "language": "python",
   "name": "python3"
  },
  "language_info": {
   "codemirror_mode": {
    "name": "ipython",
    "version": 3
   },
   "file_extension": ".py",
   "mimetype": "text/x-python",
   "name": "python",
   "nbconvert_exporter": "python",
   "pygments_lexer": "ipython3",
   "version": "3.9.13"
  },
  "orig_nbformat": 4,
  "vscode": {
   "interpreter": {
    "hash": "61a82a94c46c180280249936eb31b19534f6bfefe033cdd402e7d38b32a23628"
   }
  }
 },
 "nbformat": 4,
 "nbformat_minor": 2
}
